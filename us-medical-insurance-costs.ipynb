{
 "cells": [
  {
   "cell_type": "markdown",
   "metadata": {},
   "source": [
    "# U.S. Medical Insurance Costs"
   ]
  },
  {
   "cell_type": "markdown",
   "metadata": {},
   "source": [
    "***\n",
    "# For this project I decided to compare smokers' statistics to non-smoker's statistics.\n",
    "## I plan on answering the following questions:\n",
    "### 1. Which sex has more smokers?\n",
    "### 2. Who has more children?\n",
    "### 3. Which region has the most smokers?\n",
    "### 4. Who has a higher average BMI?\n",
    "### 5. Who pays more for insurance?\n",
    "***"
   ]
  },
  {
   "cell_type": "markdown",
   "metadata": {},
   "source": [
    "##### First we create empty variables for storing data"
   ]
  },
  {
   "cell_type": "code",
   "execution_count": 1,
   "metadata": {},
   "outputs": [],
   "source": [
    "import csv\n",
    "male_smoker_count=0\n",
    "female_smoker_count=0\n",
    "male_nonsmoker_count=0\n",
    "female_nonsmoker_count=0\n",
    "smoker_children=0\n",
    "nonsmoker_children=0\n",
    "smoker_bmi=0\n",
    "nonsmoker_bmi=0\n",
    "smoker_cost=0\n",
    "nonsmoker_cost=0\n",
    "regions=[]"
   ]
  },
  {
   "cell_type": "markdown",
   "metadata": {},
   "source": [
    "##### Then we open the file with the data and use a for loop to get a data on how many smokers and non-smokers per gender are in our data. We then calculate the percentage of smokers and the percentage of smokers per gender."
   ]
  },
  {
   "cell_type": "code",
   "execution_count": 2,
   "metadata": {},
   "outputs": [
    {
     "name": "stdout",
     "output_type": "stream",
     "text": [
      "Male nonsmokers:517, Female nonsmokers:547, Male smokers:159, Female smokers:115\n",
      "A total of 23.52% of males smoke, while a total of 17.37% of females smoke.\n",
      "A total of 20.48% of people smoke\n"
     ]
    }
   ],
   "source": [
    "with open('insurance.csv',newline='') as insurance_file:\n",
    "    insurance=csv.DictReader(insurance_file)\n",
    "    for row in insurance:\n",
    "        if row['smoker'] == 'yes':\n",
    "            #Get the amount of smokers per gender\n",
    "            if row['sex'] == 'male':\n",
    "                male_smoker_count+=1\n",
    "            elif row['sex'] == 'female':\n",
    "                female_smoker_count+=1\n",
    "            smoker_children+=int(row['children'])\n",
    "            smoker_bmi+=float(row['bmi'])\n",
    "            smoker_cost+=float(row['charges'])\n",
    "        #nonsmokers\n",
    "        else:\n",
    "            if row['sex'] == 'male':\n",
    "                male_nonsmoker_count+=1\n",
    "            elif row['sex'] == 'female':\n",
    "                female_nonsmoker_count+=1\n",
    "            nonsmoker_children+=int(row['children'])\n",
    "            nonsmoker_bmi+=float(row['bmi'])\n",
    "            nonsmoker_cost+=float(row['charges'])\n",
    "            \n",
    "    print(f'Male nonsmokers:{male_nonsmoker_count}, Female nonsmokers:{female_nonsmoker_count}, Male smokers:{male_smoker_count}, Female smokers:{female_smoker_count}')\n",
    "    total_males=male_smoker_count+male_nonsmoker_count\n",
    "    total_females=female_smoker_count+female_nonsmoker_count\n",
    "    total_people=total_females+total_males\n",
    "    percent_male_smokers=male_smoker_count/total_males*100\n",
    "    percent_female_smokers=female_smoker_count/total_females*100\n",
    "    percent_total_smokers=(male_smoker_count+female_smoker_count)/total_people*100\n",
    "    print(f'A total of {round(percent_male_smokers,2)}% of males smoke, while a total of {round(percent_female_smokers,2)}% of females smoke.')\n",
    "    print(f'A total of {round(percent_total_smokers,2)}% of people smoke')"
   ]
  },
  {
   "cell_type": "markdown",
   "metadata": {},
   "source": [
    "#### We get the average children per person and we find out that while smokers have on average more children, the diffrence is not big enough to be actually noticable"
   ]
  },
  {
   "cell_type": "code",
   "execution_count": 4,
   "metadata": {},
   "outputs": [
    {
     "name": "stdout",
     "output_type": "stream",
     "text": [
      "On average smokers have 1.113 children, while non-smokers have 1.09 children\n"
     ]
    }
   ],
   "source": [
    "smoker_count=male_smoker_count+female_smoker_count\n",
    "nonsmoker_count=male_nonsmoker_count+female_nonsmoker_count\n",
    "smoker_children_average=smoker_children/smoker_count\n",
    "nonsmoker_children_average=nonsmoker_children/nonsmoker_count\n",
    "print(f'On average smokers have {round(smoker_children_average,3)} children, while non-smokers have {round(nonsmoker_children_average,3)} children')"
   ]
  },
  {
   "cell_type": "markdown",
   "metadata": {},
   "source": [
    "##### First we have to make a list of regions. Then we make a dictionary that has regions as keys and number of smokers i"
   ]
  },
  {
   "cell_type": "code",
   "execution_count": 5,
   "metadata": {},
   "outputs": [],
   "source": [
    "with open('insurance.csv',newline='') as insurance_file:\n",
    "    insurance=csv.DictReader(insurance_file)\n",
    "    for row in insurance:\n",
    "        #make the region list\n",
    "        if not row['region'] in regions:\n",
    "            regions.append(row['region'])\n",
    "    smokers_per_region={}\n",
    "    nonsmokers_per_region={}\n",
    "    for region in regions:#we make a dictionary\n",
    "        smokers_per_region.update({region:0})\n",
    "        nonsmokers_per_region.update({region:0})"
   ]
  },
  {
   "cell_type": "markdown",
   "metadata": {},
   "source": [
    "##### Then we count every smoker and nonsmoker for every region"
   ]
  },
  {
   "cell_type": "code",
   "execution_count": 6,
   "metadata": {},
   "outputs": [
    {
     "name": "stdout",
     "output_type": "stream",
     "text": [
      "{'southwest': 58, 'southeast': 91, 'northwest': 58, 'northeast': 67}\n",
      "{'southwest': 267, 'southeast': 273, 'northwest': 267, 'northeast': 257}\n"
     ]
    }
   ],
   "source": [
    "with open('insurance.csv',newline='') as insurance_file:\n",
    "    insurance=csv.DictReader(insurance_file)\n",
    "    for row in insurance:\n",
    "        if row['smoker'] == 'yes':\n",
    "            smokers_per_region[row['region']] += 1\n",
    "        else:\n",
    "            nonsmokers_per_region[row['region']] +=1\n",
    "    print(smokers_per_region)\n",
    "    print(nonsmokers_per_region)"
   ]
  },
  {
   "cell_type": "markdown",
   "metadata": {},
   "source": [
    "##### We calculate the percentage of smokers per region"
   ]
  },
  {
   "cell_type": "code",
   "execution_count": 7,
   "metadata": {},
   "outputs": [
    {
     "name": "stdout",
     "output_type": "stream",
     "text": [
      "{'southwest': 17.8, 'southeast': 25.0, 'northwest': 17.8, 'northeast': 20.7}\n"
     ]
    }
   ],
   "source": [
    "percentage_per_region={}\n",
    "for region in regions:\n",
    "    percentage_per_region.update({region:round(smokers_per_region[region]/(smokers_per_region[region]+nonsmokers_per_region[region])*100,1)})\n",
    "print(percentage_per_region)"
   ]
  },
  {
   "cell_type": "markdown",
   "metadata": {},
   "source": [
    "##### We calculate the average number of BMI per category and we can see what while average smoker BMI is a bit higher, it's not by much"
   ]
  },
  {
   "cell_type": "code",
   "execution_count": 8,
   "metadata": {},
   "outputs": [
    {
     "name": "stdout",
     "output_type": "stream",
     "text": [
      "Average smoker BMI is 30.71,while average non-smoker BMI is 30.65\n"
     ]
    }
   ],
   "source": [
    "average_smoker_bmi=round(smoker_bmi/smoker_count,2)\n",
    "average_nonsmoker_bmi=round(nonsmoker_bmi/nonsmoker_count,2)\n",
    "print(f'Average smoker BMI is {average_smoker_bmi},while average non-smoker BMI is {average_nonsmoker_bmi}')"
   ]
  },
  {
   "cell_type": "markdown",
   "metadata": {},
   "source": [
    "##### We can also calculate the diffrence between average smoker and non-smoker insurance charges. We can clearly see quite a diffrence here."
   ]
  },
  {
   "cell_type": "code",
   "execution_count": 9,
   "metadata": {},
   "outputs": [
    {
     "name": "stdout",
     "output_type": "stream",
     "text": [
      "Average smoker cost is 32050.23$, while average non-smoker cost is 8434.27$. There is a diffrence of 23615.96$ for people that smoke.\n"
     ]
    }
   ],
   "source": [
    "average_smoker_cost=round(smoker_cost/smoker_count,2)\n",
    "average_nonsmoker_cost=round(nonsmoker_cost/nonsmoker_count,2)\n",
    "diffrence=average_smoker_cost-average_nonsmoker_cost\n",
    "print(f'Average smoker cost is {average_smoker_cost}$, while average non-smoker cost is {average_nonsmoker_cost}$. There is a diffrence of {diffrence}$ for people that smoke.')"
   ]
  }
 ],
 "metadata": {
  "kernelspec": {
   "display_name": "Python 3 (ipykernel)",
   "language": "python",
   "name": "python3"
  },
  "language_info": {
   "codemirror_mode": {
    "name": "ipython",
    "version": 3
   },
   "file_extension": ".py",
   "mimetype": "text/x-python",
   "name": "python",
   "nbconvert_exporter": "python",
   "pygments_lexer": "ipython3",
   "version": "3.11.2"
  }
 },
 "nbformat": 4,
 "nbformat_minor": 4
}
